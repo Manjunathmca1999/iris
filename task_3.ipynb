{
 "cells": [
  {
   "cell_type": "code",
   "execution_count": 4,
   "id": "8e9c0290",
   "metadata": {},
   "outputs": [],
   "source": [
    "import pickle\n",
    "from sklearn import datasets\n",
    "iris=datasets.load_iris()\n",
    "x=iris.data\n",
    "y=iris.target"
   ]
  },
  {
   "cell_type": "code",
   "execution_count": 5,
   "id": "fd746e1d",
   "metadata": {},
   "outputs": [],
   "source": [
    "#labels for iris dataset\n",
    "labels ={\n",
    "0: \"setosa\",\n",
    "1: \"versicolor\",\n",
    "2: \"virginica\"\n",
    "}"
   ]
  },
  {
   "cell_type": "code",
   "execution_count": 6,
   "id": "64f95c9e",
   "metadata": {},
   "outputs": [],
   "source": [
    "#split the data set\n",
    "from sklearn.model_selection import train_test_split\n",
    "x_train,x_test,y_train,y_test=train_test_split(x,y,test_size=.50)"
   ]
  },
  {
   "cell_type": "code",
   "execution_count": 7,
   "id": "fec98ee4",
   "metadata": {},
   "outputs": [],
   "source": [
    "#Using decision tree algorithm\n",
    "from sklearn import tree\n",
    "classifier=tree.DecisionTreeClassifier()\n",
    "classifier.fit(x_train,y_train)\n",
    "predictions=classifier.predict(x_test)"
   ]
  },
  {
   "cell_type": "code",
   "execution_count": 8,
   "id": "7aa42adb",
   "metadata": {},
   "outputs": [],
   "source": [
    "#export the model\n",
    "pickle.dump(classifier, open('model.pkl','wb'))"
   ]
  },
  {
   "cell_type": "code",
   "execution_count": 9,
   "id": "bbb31b81",
   "metadata": {},
   "outputs": [
    {
     "name": "stdout",
     "output_type": "stream",
     "text": [
      "Hello Worlds\n",
      "virginica\n"
     ]
    }
   ],
   "source": [
    "#load the model and test with a custom input\n",
    "model = pickle.load( open('model.pkl','rb'))\n",
    "x = [[6.7, 3.3, 5.7, 2.1]]\n",
    "predict = model.predict(x)\n",
    "print(\"Hello Worlds\")\n",
    "print(labels[predict[0]])"
   ]
  },
  {
   "cell_type": "code",
   "execution_count": null,
   "id": "25e73317",
   "metadata": {},
   "outputs": [],
   "source": []
  },
  {
   "cell_type": "code",
   "execution_count": null,
   "id": "1f55f351",
   "metadata": {},
   "outputs": [],
   "source": []
  }
 ],
 "metadata": {
  "kernelspec": {
   "display_name": "Python 3.10.6 64-bit",
   "language": "python",
   "name": "python3"
  },
  "language_info": {
   "codemirror_mode": {
    "name": "ipython",
    "version": 3
   },
   "file_extension": ".py",
   "mimetype": "text/x-python",
   "name": "python",
   "nbconvert_exporter": "python",
   "pygments_lexer": "ipython3",
   "version": "3.10.6"
  },
  "vscode": {
   "interpreter": {
    "hash": "9502b019fe375ff502cbe8397dc4e0b3a9221e2b5680b9fc31e05d59baa8b01b"
   }
  }
 },
 "nbformat": 4,
 "nbformat_minor": 5
}
